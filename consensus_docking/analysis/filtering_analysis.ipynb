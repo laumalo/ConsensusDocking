{
 "cells": [
  {
   "cell_type": "code",
   "execution_count": 1,
   "metadata": {
    "collapsed": true
   },
   "outputs": [],
   "source": [
    "import os\n",
    "import numpy as np\n",
    "import pandas as pd\n",
    "import plotly.graph_objects as go\n",
    "import plotly.express as px"
   ]
  },
  {
   "cell_type": "code",
   "execution_count": 2,
   "outputs": [],
   "source": [
    "path_to_output = '/home/bsccns/Documents/PhD/consensus/benchmark/consensus_docking/unbound_high_affinity/output/'\n",
    "programs_list = ['frodock', 'ftdock','patchdock','piper','rosetta']"
   ],
   "metadata": {
    "collapsed": false,
    "pycharm": {
     "name": "#%%\n"
    }
   }
  },
  {
   "cell_type": "markdown",
   "source": [
    "## Violin plot showing filtering efficacy"
   ],
   "metadata": {
    "collapsed": false
   }
  },
  {
   "cell_type": "code",
   "execution_count": 3,
   "outputs": [
    {
     "data": {
      "text/plain": "                  ids        rmsd  program  isFiltered  isNearNative\n0      frodock_105483   94.507146  frodock       False         False\n1       frodock_42803   56.252583  frodock       False         False\n2      frodock_119983  105.194364  frodock       False         False\n3      frodock_126759   29.254339  frodock        True         False\n4       frodock_98859   65.873063  frodock       False         False\n...               ...         ...      ...         ...           ...\n70357   rosetta_61392   36.674709  rosetta       False         False\n70358   rosetta_01157   74.863291  rosetta       False         False\n70359   rosetta_58035   73.326400  rosetta       False         False\n70360   rosetta_65585   73.435560  rosetta       False         False\n70361   rosetta_10155   81.482344  rosetta       False         False\n\n[434308 rows x 5 columns]",
      "text/html": "<div>\n<style scoped>\n    .dataframe tbody tr th:only-of-type {\n        vertical-align: middle;\n    }\n\n    .dataframe tbody tr th {\n        vertical-align: top;\n    }\n\n    .dataframe thead th {\n        text-align: right;\n    }\n</style>\n<table border=\"1\" class=\"dataframe\">\n  <thead>\n    <tr style=\"text-align: right;\">\n      <th></th>\n      <th>ids</th>\n      <th>rmsd</th>\n      <th>program</th>\n      <th>isFiltered</th>\n      <th>isNearNative</th>\n    </tr>\n  </thead>\n  <tbody>\n    <tr>\n      <th>0</th>\n      <td>frodock_105483</td>\n      <td>94.507146</td>\n      <td>frodock</td>\n      <td>False</td>\n      <td>False</td>\n    </tr>\n    <tr>\n      <th>1</th>\n      <td>frodock_42803</td>\n      <td>56.252583</td>\n      <td>frodock</td>\n      <td>False</td>\n      <td>False</td>\n    </tr>\n    <tr>\n      <th>2</th>\n      <td>frodock_119983</td>\n      <td>105.194364</td>\n      <td>frodock</td>\n      <td>False</td>\n      <td>False</td>\n    </tr>\n    <tr>\n      <th>3</th>\n      <td>frodock_126759</td>\n      <td>29.254339</td>\n      <td>frodock</td>\n      <td>True</td>\n      <td>False</td>\n    </tr>\n    <tr>\n      <th>4</th>\n      <td>frodock_98859</td>\n      <td>65.873063</td>\n      <td>frodock</td>\n      <td>False</td>\n      <td>False</td>\n    </tr>\n    <tr>\n      <th>...</th>\n      <td>...</td>\n      <td>...</td>\n      <td>...</td>\n      <td>...</td>\n      <td>...</td>\n    </tr>\n    <tr>\n      <th>70357</th>\n      <td>rosetta_61392</td>\n      <td>36.674709</td>\n      <td>rosetta</td>\n      <td>False</td>\n      <td>False</td>\n    </tr>\n    <tr>\n      <th>70358</th>\n      <td>rosetta_01157</td>\n      <td>74.863291</td>\n      <td>rosetta</td>\n      <td>False</td>\n      <td>False</td>\n    </tr>\n    <tr>\n      <th>70359</th>\n      <td>rosetta_58035</td>\n      <td>73.326400</td>\n      <td>rosetta</td>\n      <td>False</td>\n      <td>False</td>\n    </tr>\n    <tr>\n      <th>70360</th>\n      <td>rosetta_65585</td>\n      <td>73.435560</td>\n      <td>rosetta</td>\n      <td>False</td>\n      <td>False</td>\n    </tr>\n    <tr>\n      <th>70361</th>\n      <td>rosetta_10155</td>\n      <td>81.482344</td>\n      <td>rosetta</td>\n      <td>False</td>\n      <td>False</td>\n    </tr>\n  </tbody>\n</table>\n<p>434308 rows × 5 columns</p>\n</div>"
     },
     "execution_count": 3,
     "metadata": {},
     "output_type": "execute_result"
    }
   ],
   "source": [
    "path_to_rmsd_folder = os.path.join(path_to_output, 'analysis', 'rmsd')\n",
    "path_to_filter_folder = os.path.join(path_to_output, 'filter')\n",
    "near_native_threshold = 5.\n",
    "\n",
    "filtered_ids_list = []\n",
    "for program in programs_list:\n",
    "    filter_file = os.path.join(path_to_filter_folder, f'{program}_filter.txt')\n",
    "    df = pd.read_csv(filter_file, names=['ids','distance'], sep=' ')\n",
    "    df[['ids','dumm']] = df['ids'].str.split('.',expand=True)\n",
    "    filtered_ids_list += df['ids'].tolist()\n",
    "\n",
    "rmsd_df = pd.DataFrame()\n",
    "for program in programs_list:\n",
    "    rmsd_file = os.path.join(path_to_rmsd_folder, f'rmsd_{program}.csv')\n",
    "    df = pd.read_csv(rmsd_file, names=['ids','rmsd'])\n",
    "    rmsd_df = pd.concat([rmsd_df,df], axis=0)\n",
    "rmsd_df[['program','dumm']] = rmsd_df['ids'].str.split('_',expand=True)\n",
    "rmsd_df[['ids','dumm']] = rmsd_df['ids'].str.split('.',expand=True)\n",
    "rmsd_df.pop('dumm')\n",
    "rmsd_df['isFiltered'] = np.where(rmsd_df['ids'].isin(filtered_ids_list), True, False)\n",
    "rmsd_df['isNearNative'] = np.where(rmsd_df['rmsd'] <= near_native_threshold, True, False)\n",
    "rmsd_df"
   ],
   "metadata": {
    "collapsed": false,
    "pycharm": {
     "name": "#%%\n"
    }
   }
  },
  {
   "cell_type": "code",
   "source": [
    "fig = go.Figure()\n",
    "\n",
    "fig.add_trace(go.Violin(x=rmsd_df['program'][ rmsd_df['isFiltered'] == True ],\n",
    "                        y=rmsd_df['rmsd'][ rmsd_df['isFiltered'] == True ],\n",
    "                        legendgroup='Filtered', scalegroup='Yes', name='Filtered',\n",
    "                        side='negative',\n",
    "                        line_color='lightseagreen',\n",
    "                        points=False)\n",
    "             )\n",
    "fig.add_trace(go.Violin(x=rmsd_df['program'],\n",
    "                        y=rmsd_df['rmsd'],\n",
    "                        legendgroup='Not filtered', scalegroup='No', name='Not filtered',\n",
    "                        side='positive',\n",
    "                        line_color='mediumpurple',\n",
    "                        points=False)\n",
    "             )\n",
    "\n",
    "fig.update_traces(meanline_visible=True)\n",
    "fig.update_layout(violingap=0, violinmode='overlay')\n",
    "fig.update_layout(yaxis_range=[0,120],xaxis_range=[-0.5,4.5])\n",
    "\n",
    "fig.update_layout(\n",
    "    title=\"Comparison of filtered and non-filtered poses L-RMSD\",\n",
    "    xaxis_title=\"Program\",\n",
    "    yaxis_title=\"L-RMSD (Å)\",\n",
    "    font=dict(\n",
    "        family=\"Arial, monospace\",\n",
    "        size=18,\n",
    "        color=\"Black\"\n",
    "    )\n",
    ")\n",
    "\n",
    "fig.write_image(f\"{path_to_output}/analysis/violin_rmsd_distribution_per_program.png\")\n",
    "# Interactive version\n",
    "#fig.write_html(f\"{path_to_output}/analysis/violin_rmsd_distribution_per_program.html\")\n",
    "fig.show()"
   ],
   "metadata": {
    "collapsed": false,
    "pycharm": {
     "name": "#%%\n"
    }
   },
   "execution_count": null,
   "outputs": []
  },
  {
   "cell_type": "code",
   "source": [
    "rmsd_df['dumm'] = 'Unbound High Affinity'\n",
    "\n",
    "fig = go.Figure()\n",
    "\n",
    "fig.add_trace(go.Violin(x=rmsd_df['dumm'][ rmsd_df['isFiltered'] == True ],\n",
    "                        y=rmsd_df['rmsd'][ rmsd_df['isFiltered'] == True ],\n",
    "                        legendgroup='Filtered', scalegroup='Yes', name='Filtered',\n",
    "                        side='negative',\n",
    "                        line_color='lightseagreen',\n",
    "                        points=False)\n",
    "             )\n",
    "fig.add_trace(go.Violin(x=rmsd_df['dumm'],\n",
    "                        y=rmsd_df['rmsd'],\n",
    "                        legendgroup='Not filtered', scalegroup='No', name='Not filtered',\n",
    "                        side='positive',\n",
    "                        line_color='mediumpurple',\n",
    "                        points=False)\n",
    "             )\n",
    "\n",
    "fig.update_traces(meanline_visible=True)\n",
    "fig.update_layout(violingap=0, violinmode='overlay')\n",
    "fig.update_layout(yaxis_range=[0,120],xaxis_range=[-0.5,0.5])\n",
    "\n",
    "fig.update_layout(\n",
    "    title=\"Comparison of filtered and non-filtered poses L-RMSD\",\n",
    "    xaxis_title=\"System\",\n",
    "    yaxis_title=\"L-RMSD (Å)\",\n",
    "    font=dict(\n",
    "        family=\"Arial, monospace\",\n",
    "        size=18,\n",
    "        color=\"Black\"\n",
    "    )\n",
    ")\n",
    "\n",
    "fig.write_image(f\"{path_to_output}/analysis/violin_rmsd_distribution_full_dataset.png\")\n",
    "# Interactive version\n",
    "#fig.write_html(f\"{path_to_output}/analysis/violin_rmsd_distribution_full_dataset.html\")\n",
    "fig.show()\n",
    "rmsd_df.pop('dumm')"
   ],
   "metadata": {
    "collapsed": false,
    "pycharm": {
     "name": "#%%\n"
    }
   },
   "execution_count": null,
   "outputs": []
  },
  {
   "cell_type": "code",
   "execution_count": 6,
   "outputs": [],
   "source": [
    "nnc_serie = rmsd_df.value_counts(subset=['program', 'isNearNative','isFiltered'],ascending=True)\n",
    "near_native_counts_filt = nnc_serie.to_frame(name='Counts')\n",
    "near_native_counts_filt.reset_index(inplace=True)\n",
    "near_native_counts_filt = near_native_counts_filt[near_native_counts_filt['isFiltered'] ==True]\n",
    "\n",
    "\n",
    "nnc_serie = rmsd_df.value_counts(subset=['program', 'isNearNative'],ascending=True)\n",
    "near_native_counts_nofilt = nnc_serie.to_frame(name='Counts')\n",
    "near_native_counts_nofilt.reset_index(inplace=True)\n",
    "\n",
    "\n",
    "n_filtered_poses = near_native_counts_filt['Counts'][near_native_counts_filt['isFiltered']==True].sum()\n",
    "n_total_poses = len(rmsd_df)\n",
    "\n",
    "near_native_counts_filt['Near Native Percentage'] = near_native_counts_filt['Counts'] * 100 / n_filtered_poses\n",
    "near_native_counts_nofilt['Near Native Percentage'] = near_native_counts_nofilt['Counts'] * 100 / n_total_poses\n",
    "\n",
    "near_native_counts_nofilt['isFiltered'] = False\n",
    "\n",
    "near_native_counts = pd.merge(near_native_counts_filt,near_native_counts_nofilt, how='outer')\n",
    "\n",
    "mask = near_native_counts.applymap(type) != bool\n",
    "d = {True: 'Filtered', False: 'Not Filtered'}\n",
    "near_native_counts = near_native_counts.where(mask, near_native_counts.replace(d))"
   ],
   "metadata": {
    "collapsed": false,
    "pycharm": {
     "name": "#%%\n"
    }
   }
  },
  {
   "cell_type": "code",
   "source": [
    "fig = px.bar(near_native_counts[near_native_counts['isNearNative'] == 'Filtered'], x='program',\n",
    "             y='Near Native Percentage', title=\"Enrichment of Near Native Poses by filtering\",\n",
    "             color='isFiltered', barmode='group', color_discrete_map={'False': 'mediumpurple', 'True': 'lightseagreen'}, opacity=0.5)#, height=400)\n",
    "\n",
    "fig.update_layout(\n",
    "    xaxis_title=\"Program\",\n",
    "    font=dict(\n",
    "        family=\"Arial, monospace\",\n",
    "        size=18,\n",
    "        color=\"Black\"\n",
    "    )\n",
    ")\n",
    "\n",
    "fig.update_layout(legend_title_text='')\n",
    "fig.update_layout(yaxis_range=[0,0.0575])\n",
    "\n",
    "fig.write_image(f\"{path_to_output}/analysis/barplot_near_native_percentage_per_program.png\")\n",
    "\n",
    "fig.show()"
   ],
   "metadata": {
    "collapsed": false,
    "pycharm": {
     "name": "#%%\n"
    }
   },
   "execution_count": null,
   "outputs": []
  },
  {
   "cell_type": "code",
   "execution_count": 8,
   "outputs": [
    {
     "data": {
      "text/plain": "      program  isNearNative    isFiltered  Counts  Near Native Percentage\n0     rosetta      Filtered      Filtered       1                0.000578\n1      ftdock      Filtered      Filtered       3                0.001734\n2   patchdock      Filtered      Filtered      23                0.013292\n3     frodock      Filtered      Filtered      44                0.025429\n4       piper      Filtered      Filtered      73                0.042188\n5     rosetta  Not Filtered      Filtered   16764                9.688269\n6   patchdock  Not Filtered      Filtered   27747               16.035577\n7      ftdock  Not Filtered      Filtered   30154               17.426633\n8       piper  Not Filtered      Filtered   48717               28.154582\n9     frodock  Not Filtered      Filtered   49508               28.611718\n10    rosetta      Filtered  Not Filtered       1                0.000230\n11     ftdock      Filtered  Not Filtered       3                0.000691\n12  patchdock      Filtered  Not Filtered      23                0.005296\n13    frodock      Filtered  Not Filtered      44                0.010131\n14      piper      Filtered  Not Filtered      73                0.016808\n15  patchdock  Not Filtered  Not Filtered   69528               16.008915\n16      piper  Not Filtered  Not Filtered   69927               16.100786\n17    rosetta  Not Filtered  Not Filtered   70361               16.200715\n18     ftdock  Not Filtered  Not Filtered   92397               21.274533\n19    frodock  Not Filtered  Not Filtered  131951               30.381895",
      "text/html": "<div>\n<style scoped>\n    .dataframe tbody tr th:only-of-type {\n        vertical-align: middle;\n    }\n\n    .dataframe tbody tr th {\n        vertical-align: top;\n    }\n\n    .dataframe thead th {\n        text-align: right;\n    }\n</style>\n<table border=\"1\" class=\"dataframe\">\n  <thead>\n    <tr style=\"text-align: right;\">\n      <th></th>\n      <th>program</th>\n      <th>isNearNative</th>\n      <th>isFiltered</th>\n      <th>Counts</th>\n      <th>Near Native Percentage</th>\n    </tr>\n  </thead>\n  <tbody>\n    <tr>\n      <th>0</th>\n      <td>rosetta</td>\n      <td>Filtered</td>\n      <td>Filtered</td>\n      <td>1</td>\n      <td>0.000578</td>\n    </tr>\n    <tr>\n      <th>1</th>\n      <td>ftdock</td>\n      <td>Filtered</td>\n      <td>Filtered</td>\n      <td>3</td>\n      <td>0.001734</td>\n    </tr>\n    <tr>\n      <th>2</th>\n      <td>patchdock</td>\n      <td>Filtered</td>\n      <td>Filtered</td>\n      <td>23</td>\n      <td>0.013292</td>\n    </tr>\n    <tr>\n      <th>3</th>\n      <td>frodock</td>\n      <td>Filtered</td>\n      <td>Filtered</td>\n      <td>44</td>\n      <td>0.025429</td>\n    </tr>\n    <tr>\n      <th>4</th>\n      <td>piper</td>\n      <td>Filtered</td>\n      <td>Filtered</td>\n      <td>73</td>\n      <td>0.042188</td>\n    </tr>\n    <tr>\n      <th>5</th>\n      <td>rosetta</td>\n      <td>Not Filtered</td>\n      <td>Filtered</td>\n      <td>16764</td>\n      <td>9.688269</td>\n    </tr>\n    <tr>\n      <th>6</th>\n      <td>patchdock</td>\n      <td>Not Filtered</td>\n      <td>Filtered</td>\n      <td>27747</td>\n      <td>16.035577</td>\n    </tr>\n    <tr>\n      <th>7</th>\n      <td>ftdock</td>\n      <td>Not Filtered</td>\n      <td>Filtered</td>\n      <td>30154</td>\n      <td>17.426633</td>\n    </tr>\n    <tr>\n      <th>8</th>\n      <td>piper</td>\n      <td>Not Filtered</td>\n      <td>Filtered</td>\n      <td>48717</td>\n      <td>28.154582</td>\n    </tr>\n    <tr>\n      <th>9</th>\n      <td>frodock</td>\n      <td>Not Filtered</td>\n      <td>Filtered</td>\n      <td>49508</td>\n      <td>28.611718</td>\n    </tr>\n    <tr>\n      <th>10</th>\n      <td>rosetta</td>\n      <td>Filtered</td>\n      <td>Not Filtered</td>\n      <td>1</td>\n      <td>0.000230</td>\n    </tr>\n    <tr>\n      <th>11</th>\n      <td>ftdock</td>\n      <td>Filtered</td>\n      <td>Not Filtered</td>\n      <td>3</td>\n      <td>0.000691</td>\n    </tr>\n    <tr>\n      <th>12</th>\n      <td>patchdock</td>\n      <td>Filtered</td>\n      <td>Not Filtered</td>\n      <td>23</td>\n      <td>0.005296</td>\n    </tr>\n    <tr>\n      <th>13</th>\n      <td>frodock</td>\n      <td>Filtered</td>\n      <td>Not Filtered</td>\n      <td>44</td>\n      <td>0.010131</td>\n    </tr>\n    <tr>\n      <th>14</th>\n      <td>piper</td>\n      <td>Filtered</td>\n      <td>Not Filtered</td>\n      <td>73</td>\n      <td>0.016808</td>\n    </tr>\n    <tr>\n      <th>15</th>\n      <td>patchdock</td>\n      <td>Not Filtered</td>\n      <td>Not Filtered</td>\n      <td>69528</td>\n      <td>16.008915</td>\n    </tr>\n    <tr>\n      <th>16</th>\n      <td>piper</td>\n      <td>Not Filtered</td>\n      <td>Not Filtered</td>\n      <td>69927</td>\n      <td>16.100786</td>\n    </tr>\n    <tr>\n      <th>17</th>\n      <td>rosetta</td>\n      <td>Not Filtered</td>\n      <td>Not Filtered</td>\n      <td>70361</td>\n      <td>16.200715</td>\n    </tr>\n    <tr>\n      <th>18</th>\n      <td>ftdock</td>\n      <td>Not Filtered</td>\n      <td>Not Filtered</td>\n      <td>92397</td>\n      <td>21.274533</td>\n    </tr>\n    <tr>\n      <th>19</th>\n      <td>frodock</td>\n      <td>Not Filtered</td>\n      <td>Not Filtered</td>\n      <td>131951</td>\n      <td>30.381895</td>\n    </tr>\n  </tbody>\n</table>\n</div>"
     },
     "execution_count": 8,
     "metadata": {},
     "output_type": "execute_result"
    }
   ],
   "source": [
    "near_native_counts"
   ],
   "metadata": {
    "collapsed": false,
    "pycharm": {
     "name": "#%%\n"
    }
   }
  },
  {
   "cell_type": "code",
   "execution_count": 9,
   "outputs": [
    {
     "data": {
      "text/plain": "                    ids      rmsd    program  isFiltered  isNearNative\n117032   frodock_123931  0.936967    frodock        True          True\n129095   frodock_123930  1.139134    frodock        True          True\n55690   patchdock_21020  1.437627  patchdock        True          True\n28281   patchdock_19200  1.468920  patchdock        True          True\n42811          piper_21  1.549657      piper        True          True\n...                 ...       ...        ...         ...           ...\n32805         piper_534  4.918875      piper        True          True\n131770   frodock_124567  4.921012    frodock        True          True\n65732        piper_7995  4.967187      piper        True          True\n49915   patchdock_18162  4.984303  patchdock        True          True\n8749        piper_13421  4.991895      piper        True          True\n\n[144 rows x 5 columns]",
      "text/html": "<div>\n<style scoped>\n    .dataframe tbody tr th:only-of-type {\n        vertical-align: middle;\n    }\n\n    .dataframe tbody tr th {\n        vertical-align: top;\n    }\n\n    .dataframe thead th {\n        text-align: right;\n    }\n</style>\n<table border=\"1\" class=\"dataframe\">\n  <thead>\n    <tr style=\"text-align: right;\">\n      <th></th>\n      <th>ids</th>\n      <th>rmsd</th>\n      <th>program</th>\n      <th>isFiltered</th>\n      <th>isNearNative</th>\n    </tr>\n  </thead>\n  <tbody>\n    <tr>\n      <th>117032</th>\n      <td>frodock_123931</td>\n      <td>0.936967</td>\n      <td>frodock</td>\n      <td>True</td>\n      <td>True</td>\n    </tr>\n    <tr>\n      <th>129095</th>\n      <td>frodock_123930</td>\n      <td>1.139134</td>\n      <td>frodock</td>\n      <td>True</td>\n      <td>True</td>\n    </tr>\n    <tr>\n      <th>55690</th>\n      <td>patchdock_21020</td>\n      <td>1.437627</td>\n      <td>patchdock</td>\n      <td>True</td>\n      <td>True</td>\n    </tr>\n    <tr>\n      <th>28281</th>\n      <td>patchdock_19200</td>\n      <td>1.468920</td>\n      <td>patchdock</td>\n      <td>True</td>\n      <td>True</td>\n    </tr>\n    <tr>\n      <th>42811</th>\n      <td>piper_21</td>\n      <td>1.549657</td>\n      <td>piper</td>\n      <td>True</td>\n      <td>True</td>\n    </tr>\n    <tr>\n      <th>...</th>\n      <td>...</td>\n      <td>...</td>\n      <td>...</td>\n      <td>...</td>\n      <td>...</td>\n    </tr>\n    <tr>\n      <th>32805</th>\n      <td>piper_534</td>\n      <td>4.918875</td>\n      <td>piper</td>\n      <td>True</td>\n      <td>True</td>\n    </tr>\n    <tr>\n      <th>131770</th>\n      <td>frodock_124567</td>\n      <td>4.921012</td>\n      <td>frodock</td>\n      <td>True</td>\n      <td>True</td>\n    </tr>\n    <tr>\n      <th>65732</th>\n      <td>piper_7995</td>\n      <td>4.967187</td>\n      <td>piper</td>\n      <td>True</td>\n      <td>True</td>\n    </tr>\n    <tr>\n      <th>49915</th>\n      <td>patchdock_18162</td>\n      <td>4.984303</td>\n      <td>patchdock</td>\n      <td>True</td>\n      <td>True</td>\n    </tr>\n    <tr>\n      <th>8749</th>\n      <td>piper_13421</td>\n      <td>4.991895</td>\n      <td>piper</td>\n      <td>True</td>\n      <td>True</td>\n    </tr>\n  </tbody>\n</table>\n<p>144 rows × 5 columns</p>\n</div>"
     },
     "execution_count": 9,
     "metadata": {},
     "output_type": "execute_result"
    }
   ],
   "source": [
    "rmsd_df[rmsd_df.isNearNative==True].sort_values('rmsd')"
   ],
   "metadata": {
    "collapsed": false,
    "pycharm": {
     "name": "#%%\n"
    }
   }
  },
  {
   "cell_type": "code",
   "execution_count": 9,
   "outputs": [],
   "source": [],
   "metadata": {
    "collapsed": false,
    "pycharm": {
     "name": "#%%\n"
    }
   }
  },
  {
   "cell_type": "code",
   "execution_count": 9,
   "outputs": [],
   "source": [],
   "metadata": {
    "collapsed": false,
    "pycharm": {
     "name": "#%%\n"
    }
   }
  },
  {
   "cell_type": "code",
   "execution_count": null,
   "outputs": [],
   "source": [],
   "metadata": {
    "collapsed": false,
    "pycharm": {
     "name": "#%%\n"
    }
   }
  }
 ],
 "metadata": {
  "kernelspec": {
   "display_name": "Python 3",
   "language": "python",
   "name": "python3"
  },
  "language_info": {
   "codemirror_mode": {
    "name": "ipython",
    "version": 2
   },
   "file_extension": ".py",
   "mimetype": "text/x-python",
   "name": "python",
   "nbconvert_exporter": "python",
   "pygments_lexer": "ipython2",
   "version": "2.7.6"
  }
 },
 "nbformat": 4,
 "nbformat_minor": 0
}